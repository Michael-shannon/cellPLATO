{
 "cells": [
  {
   "cell_type": "markdown",
   "id": "b5084a76",
   "metadata": {},
   "source": [
    "# Preprocessing Notebook"
   ]
  },
  {
   "cell_type": "markdown",
   "id": "fb440240",
   "metadata": {},
   "source": [
    "Notebook to run through data processing steps using default settings, and save the resulting dataframes for use in the accompanying notebooks"
   ]
  },
  {
   "cell_type": "code",
   "execution_count": 1,
   "id": "cef01920",
   "metadata": {},
   "outputs": [
    {
     "name": "stdout",
     "output_type": "stream",
     "text": [
      "Finished running cellPLATO initialization and loaded config.\n",
      "Initializing:  2022_12_29_11AM_HSPConly-on-EL08-AMD3100\n",
      "Hypthesis testing using:  st.ttest_ind\n",
      "Plots will be exported to:  D://Michael_Shannon/SHIRA_COLLAB/2022-10-24_HSPConly_OUTPUT/2022_12_29_11AM_HSPConly-on-EL08-AMD3100\\2022-12-29_11-04-14-401340\\plots/\n",
      "Using unique embedding per dataset shortname:  2022_12_29_11AM_HSPConly-on-EL08-AMD3100\n",
      "Exporting static Superplots\n"
     ]
    },
    {
     "ename": "NameError",
     "evalue": "name 'DRAW_SUPERPLOTS_grays' is not defined",
     "output_type": "error",
     "traceback": [
      "\u001b[1;31m---------------------------------------------------------------------------\u001b[0m",
      "\u001b[1;31mNameError\u001b[0m                                 Traceback (most recent call last)",
      "\u001b[1;32m~\\AppData\\Local\\Temp\\ipykernel_26292\\334357110.py\u001b[0m in \u001b[0;36m<module>\u001b[1;34m\u001b[0m\n\u001b[1;32m----> 1\u001b[1;33m \u001b[1;32mimport\u001b[0m \u001b[0mcellPLATO\u001b[0m \u001b[1;32mas\u001b[0m \u001b[0mcp\u001b[0m\u001b[1;33m\u001b[0m\u001b[1;33m\u001b[0m\u001b[0m\n\u001b[0m\u001b[0;32m      2\u001b[0m \u001b[1;33m\u001b[0m\u001b[0m\n\u001b[0;32m      3\u001b[0m \u001b[1;32mimport\u001b[0m \u001b[0mos\u001b[0m\u001b[1;33m\u001b[0m\u001b[1;33m\u001b[0m\u001b[0m\n\u001b[0;32m      4\u001b[0m \u001b[1;32mimport\u001b[0m \u001b[0mnumpy\u001b[0m \u001b[1;32mas\u001b[0m \u001b[0mnp\u001b[0m\u001b[1;33m\u001b[0m\u001b[1;33m\u001b[0m\u001b[0m\n\u001b[0;32m      5\u001b[0m \u001b[1;32mimport\u001b[0m \u001b[0mpandas\u001b[0m \u001b[1;32mas\u001b[0m \u001b[0mpd\u001b[0m\u001b[1;33m\u001b[0m\u001b[1;33m\u001b[0m\u001b[0m\n",
      "\u001b[1;32md:\\githubsoftware\\cellplato_gitversion\\cellplato\\cellplato\\cellPLATO\\__init__.py\u001b[0m in \u001b[0;36m<module>\u001b[1;34m\u001b[0m\n\u001b[0;32m      1\u001b[0m \u001b[1;32mfrom\u001b[0m \u001b[0minitialization\u001b[0m\u001b[1;33m.\u001b[0m\u001b[0mconfig\u001b[0m \u001b[1;32mimport\u001b[0m \u001b[1;33m*\u001b[0m\u001b[1;33m\u001b[0m\u001b[1;33m\u001b[0m\u001b[0m\n\u001b[1;32m----> 2\u001b[1;33m \u001b[1;32mfrom\u001b[0m \u001b[0minitialization\u001b[0m\u001b[1;33m.\u001b[0m\u001b[0minitialization\u001b[0m \u001b[1;32mimport\u001b[0m \u001b[1;33m*\u001b[0m\u001b[1;33m\u001b[0m\u001b[1;33m\u001b[0m\u001b[0m\n\u001b[0m\u001b[0;32m      3\u001b[0m \u001b[1;33m\u001b[0m\u001b[0m\n\u001b[0;32m      4\u001b[0m \u001b[1;32mfrom\u001b[0m \u001b[0mdata_processing\u001b[0m\u001b[1;33m.\u001b[0m\u001b[0mcell_identifier\u001b[0m \u001b[1;32mimport\u001b[0m \u001b[1;33m*\u001b[0m\u001b[1;33m\u001b[0m\u001b[1;33m\u001b[0m\u001b[0m\n\u001b[0;32m      5\u001b[0m \u001b[1;32mfrom\u001b[0m \u001b[0mdata_processing\u001b[0m\u001b[1;33m.\u001b[0m\u001b[0mcleaning_formatting_filtering\u001b[0m \u001b[1;32mimport\u001b[0m \u001b[1;33m*\u001b[0m\u001b[1;33m\u001b[0m\u001b[1;33m\u001b[0m\u001b[0m\n",
      "\u001b[1;32mD:\\githubsoftware\\cellPLATO_gitversion\\cellPLATO\\cellPLATO\\cellPLATO\\initialization\\initialization.py\u001b[0m in \u001b[0;36m<module>\u001b[1;34m\u001b[0m\n\u001b[0;32m     96\u001b[0m     \u001b[0mos\u001b[0m\u001b[1;33m.\u001b[0m\u001b[0mmakedirs\u001b[0m\u001b[1;33m(\u001b[0m\u001b[0mSUPERPLOT_DIR\u001b[0m\u001b[1;33m)\u001b[0m\u001b[1;33m\u001b[0m\u001b[1;33m\u001b[0m\u001b[0m\n\u001b[0;32m     97\u001b[0m \u001b[1;33m\u001b[0m\u001b[0m\n\u001b[1;32m---> 98\u001b[1;33m \u001b[1;32mif\u001b[0m \u001b[0mDRAW_SUPERPLOTS_grays\u001b[0m \u001b[1;32mand\u001b[0m \u001b[1;32mnot\u001b[0m \u001b[0mos\u001b[0m\u001b[1;33m.\u001b[0m\u001b[0mpath\u001b[0m\u001b[1;33m.\u001b[0m\u001b[0mexists\u001b[0m\u001b[1;33m(\u001b[0m\u001b[0mSUPERPLOT_grays_DIR\u001b[0m\u001b[1;33m)\u001b[0m\u001b[1;33m:\u001b[0m\u001b[1;33m\u001b[0m\u001b[1;33m\u001b[0m\u001b[0m\n\u001b[0m\u001b[0;32m     99\u001b[0m     \u001b[0mprint\u001b[0m\u001b[1;33m(\u001b[0m\u001b[1;34m'Exporting static Superplots'\u001b[0m\u001b[1;33m)\u001b[0m\u001b[1;33m\u001b[0m\u001b[1;33m\u001b[0m\u001b[0m\n\u001b[0;32m    100\u001b[0m     \u001b[0mos\u001b[0m\u001b[1;33m.\u001b[0m\u001b[0mmakedirs\u001b[0m\u001b[1;33m(\u001b[0m\u001b[0mSUPERPLOT_grays_DIR\u001b[0m\u001b[1;33m)\u001b[0m\u001b[1;33m\u001b[0m\u001b[1;33m\u001b[0m\u001b[0m\n",
      "\u001b[1;31mNameError\u001b[0m: name 'DRAW_SUPERPLOTS_grays' is not defined"
     ]
    }
   ],
   "source": [
    "import cellPLATO as cp\n",
    "\n",
    "import os\n",
    "import numpy as np\n",
    "import pandas as pd\n",
    "import matplotlib.pyplot as plt\n",
    "\n",
    "OVERWRITE_DATAFRAMES = True"
   ]
  },
  {
   "cell_type": "code",
   "execution_count": null,
   "id": "f049a76d",
   "metadata": {},
   "outputs": [],
   "source": [
    "# Get the experiment list from the experiments listed in the config \n",
    "exp_list = cp.populate_experiment_list()\n",
    "display(exp_list)"
   ]
  },
  {
   "cell_type": "code",
   "execution_count": null,
   "id": "1cc8100b",
   "metadata": {},
   "outputs": [],
   "source": [
    "# Load, process and combine the dataframes (including segmentation and migration calculations)\n",
    "comb_df = cp.combine_dataframes(exp_list)"
   ]
  },
  {
   "cell_type": "code",
   "execution_count": null,
   "id": "84712f11",
   "metadata": {},
   "outputs": [],
   "source": [
    "comb_df = cp.measurement_pipeline(comb_df)"
   ]
  },
  {
   "cell_type": "code",
   "execution_count": null,
   "id": "caf66aac",
   "metadata": {},
   "outputs": [],
   "source": [
    "# Returns a filtered dataframe, while also adding included column to comb_df\n",
    "comb_df, filt_counts = cp.apply_filters(comb_df)\n"
   ]
  },
  {
   "cell_type": "code",
   "execution_count": null,
   "id": "e150ea33",
   "metadata": {},
   "outputs": [],
   "source": [
    "# Process a time-averaged DataFrame\n",
    "tavg_df = cp.time_average(comb_df)\n",
    "display(tavg_df)"
   ]
  },
  {
   "cell_type": "code",
   "execution_count": null,
   "id": "20a4fd47",
   "metadata": {},
   "outputs": [],
   "source": [
    "# Make summary calculations from time-averaged dataframe\n",
    "#Per condition:\n",
    "avg_df = cp.average_per_condition(tavg_df)\n",
    "\n",
    "# Per replicate\n",
    "repavg_df = cp.average_per_condition(tavg_df, avg_per_rep=True)"
   ]
  },
  {
   "cell_type": "code",
   "execution_count": null,
   "id": "fb2aff22-6e5a-4906-b45d-0d638bf19abc",
   "metadata": {},
   "outputs": [],
   "source": [
    "avg_df\n"
   ]
  },
  {
   "cell_type": "code",
   "execution_count": null,
   "id": "462f8bed",
   "metadata": {
    "scrolled": true
   },
   "outputs": [],
   "source": [
    "# Dimension reduction pipeline\n",
    "dr_df = cp.dr_pipeline(comb_df, dr_factors=cp.DR_FACTORS) "
   ]
  },
  {
   "cell_type": "code",
   "execution_count": null,
   "id": "e01c51cf",
   "metadata": {},
   "outputs": [],
   "source": [
    "# Clustering cell behavior\n",
    "lab_dr_df = cp.hdbscan_clustering(dr_df, cluster_by=cp.CLUSTER_BY, plot=False)"
   ]
  },
  {
   "cell_type": "code",
   "execution_count": null,
   "id": "529c744a",
   "metadata": {},
   "outputs": [],
   "source": [
    "# Run the trajectory clustering pipeline\n",
    "lab_dr_df, traj_list, cluster_lst = cp.trajectory_clustering_pipeline(lab_dr_df, traj_factor='umap', dist_metric='hausdorff', filename_out='std_dr_df_traj')"
   ]
  },
  {
   "cell_type": "code",
   "execution_count": null,
   "id": "997c6312",
   "metadata": {},
   "outputs": [],
   "source": []
  },
  {
   "cell_type": "code",
   "execution_count": null,
   "id": "34e1895e",
   "metadata": {},
   "outputs": [],
   "source": [
    "cp.cluster_switching_pipeline(lab_dr_df)"
   ]
  },
  {
   "cell_type": "code",
   "execution_count": null,
   "id": "27874e55",
   "metadata": {},
   "outputs": [],
   "source": [
    "if OVERWRITE_DATAFRAMES:\n",
    "    # Save dataframes to shared data folder\n",
    "    tavg_df.to_csv(cp.SAVED_DATA_PATH + 'tavg_df.csv')\n",
    "    comb_df.to_csv(cp.SAVED_DATA_PATH + 'comb_df.csv')\n",
    "    dr_df.to_csv(cp.SAVED_DATA_PATH + 'dr_df.csv')\n",
    "    lab_dr_df.to_csv(cp.SAVED_DATA_PATH + 'lab_dr_df.csv')"
   ]
  },
  {
   "cell_type": "markdown",
   "id": "d6c5d825",
   "metadata": {},
   "source": [
    "### Alternatively, run all the pipelines in a single cell, generate and save all outputs"
   ]
  },
  {
   "cell_type": "code",
   "execution_count": null,
   "id": "7c7a7f6b-c247-4ba5-8a75-47f1b837d485",
   "metadata": {},
   "outputs": [],
   "source": [
    "#Minimal pipelines:\n",
    "comb_df = cp.combine_dataframes(cp.populate_experiment_list())\n",
    "comb_df = cp.measurement_pipeline(comb_df)\n",
    "filt_df, filt_counts = cp.apply_filters(comb_df)\n",
    "dr_df = cp.dr_pipeline(filt_df, dr_factors=cp.DR_FACTORS) \n",
    "cp.comparative_visualization_pipeline(dr_df)\n",
    "\n",
    "lab_dr_df = cp.cluster_analysis_pipeline(dr_df,cp.CLUSTER_BY)\n",
    "lab_dr_df, traj_list, cluster_lst = cp.trajectory_clustering_pipeline(lab_dr_df, traj_factor=cp.CLUSTER_BY, dist_metric='hausdorff', filename_out='std_dr_df_traj')\n",
    "cp.cluster_switching_pipeline(lab_dr_df)"
   ]
  },
  {
   "cell_type": "markdown",
   "id": "3960fbef",
   "metadata": {},
   "source": [
    "# "
   ]
  }
 ],
 "metadata": {
  "kernelspec": {
   "display_name": "Python 3 (ipykernel)",
   "language": "python",
   "name": "python3"
  },
  "language_info": {
   "codemirror_mode": {
    "name": "ipython",
    "version": 3
   },
   "file_extension": ".py",
   "mimetype": "text/x-python",
   "name": "python",
   "nbconvert_exporter": "python",
   "pygments_lexer": "ipython3",
   "version": "3.7.12"
  }
 },
 "nbformat": 4,
 "nbformat_minor": 5
}
