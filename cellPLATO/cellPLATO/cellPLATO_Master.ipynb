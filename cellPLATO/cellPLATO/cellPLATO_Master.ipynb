{
 "cells": [
  {
   "cell_type": "markdown",
   "metadata": {},
   "source": [
    "# CellPLATO | Cell Plasticity Analysis Tool"
   ]
  },
  {
   "cell_type": "code",
   "execution_count": 1,
   "metadata": {},
   "outputs": [
    {
     "name": "stdout",
     "output_type": "stream",
     "text": [
      "Finished running cellPLATO initialization and loaded config.\n",
      "Initializing:  Fig1_area50_framesto900_donors1and2_\n",
      "Hypthesis testing using:  st.ttest_ind\n",
      "Plots will be exported to:  D://Michael_Shannon/CELLPLATO_MASTER/June2023_Chosen_analysis_donors1only_900frames_OUTPUT/Fig1_area50_framesto900_donors1and2_\\2023-08-11_15-44-44-072565\\plots/\n",
      "Using unique embedding per dataset shortname:  Fig1_area50_framesto900_donors1and2_\n",
      "Exporting static Superplots\n",
      "Exporting static Superplots\n",
      "Exporting static Plots of Differences\n",
      "Exporting static Marginal scatterplots\n",
      "Exporting static Timeplots\n",
      "Exporting Bar plots\n",
      "Exporting SNS Bar plots\n",
      "Using corresponding CTL_SHORTLABEL:  ICAM1 + IL15  for condition:  Condition_ICAM_IL15\n",
      "Dataset in current notebook:  Fig1_area50_framesto900_donors1and2_\n",
      "Finished initializing data_processing\n"
     ]
    },
    {
     "name": "stderr",
     "output_type": "stream",
     "text": [
      "\n",
      "Bad key text.latex.preview in file c:\\ProgramData\\Anaconda3\\envs\\cellPLATO_gitversion\\lib\\site-packages\\matplotlib\\mpl-data\\stylelib\\_classic_test.mplstyle, line 123 ('text.latex.preview : False')\n",
      "You probably need to get an updated matplotlibrc file from\n",
      "https://github.com/matplotlib/matplotlib/blob/v3.5.3/matplotlibrc.template\n",
      "or from the matplotlib source distribution\n",
      "\n",
      "Bad key mathtext.fallback_to_cm in file c:\\ProgramData\\Anaconda3\\envs\\cellPLATO_gitversion\\lib\\site-packages\\matplotlib\\mpl-data\\stylelib\\_classic_test.mplstyle, line 155 ('mathtext.fallback_to_cm : True  # When True, use symbols from the Computer Modern')\n",
      "You probably need to get an updated matplotlibrc file from\n",
      "https://github.com/matplotlib/matplotlib/blob/v3.5.3/matplotlibrc.template\n",
      "or from the matplotlib source distribution\n",
      "\n",
      "Bad key savefig.jpeg_quality in file c:\\ProgramData\\Anaconda3\\envs\\cellPLATO_gitversion\\lib\\site-packages\\matplotlib\\mpl-data\\stylelib\\_classic_test.mplstyle, line 418 ('savefig.jpeg_quality: 95       # when a jpeg is saved, the default quality parameter.')\n",
      "You probably need to get an updated matplotlibrc file from\n",
      "https://github.com/matplotlib/matplotlib/blob/v3.5.3/matplotlibrc.template\n",
      "or from the matplotlib source distribution\n",
      "\n",
      "Bad key keymap.all_axes in file c:\\ProgramData\\Anaconda3\\envs\\cellPLATO_gitversion\\lib\\site-packages\\matplotlib\\mpl-data\\stylelib\\_classic_test.mplstyle, line 466 ('keymap.all_axes : a                 # enable all axes')\n",
      "You probably need to get an updated matplotlibrc file from\n",
      "https://github.com/matplotlib/matplotlib/blob/v3.5.3/matplotlibrc.template\n",
      "or from the matplotlib source distribution\n",
      "\n",
      "Bad key animation.avconv_path in file c:\\ProgramData\\Anaconda3\\envs\\cellPLATO_gitversion\\lib\\site-packages\\matplotlib\\mpl-data\\stylelib\\_classic_test.mplstyle, line 477 ('animation.avconv_path: avconv     # Path to avconv binary. Without full path')\n",
      "You probably need to get an updated matplotlibrc file from\n",
      "https://github.com/matplotlib/matplotlib/blob/v3.5.3/matplotlibrc.template\n",
      "or from the matplotlib source distribution\n",
      "\n",
      "Bad key animation.avconv_args in file c:\\ProgramData\\Anaconda3\\envs\\cellPLATO_gitversion\\lib\\site-packages\\matplotlib\\mpl-data\\stylelib\\_classic_test.mplstyle, line 479 ('animation.avconv_args:            # Additional arguments to pass to avconv')\n",
      "You probably need to get an updated matplotlibrc file from\n",
      "https://github.com/matplotlib/matplotlib/blob/v3.5.3/matplotlibrc.template\n",
      "or from the matplotlib source distribution\n"
     ]
    },
    {
     "name": "stdout",
     "output_type": "stream",
     "text": [
      "Finished intializing visualizations\n",
      "Finished initializing cellPLATO\n"
     ]
    }
   ],
   "source": [
    "import cellPLATO as cp\n",
    "\n",
    "import os\n",
    "import numpy as np\n",
    "import pandas as pd\n",
    "import matplotlib.pyplot as plt\n",
    "\n",
    "import imageio\n",
    "\n",
    "import plotly\n",
    "import plotly.graph_objects as go\n",
    "from plotly.subplots import make_subplots\n",
    "import seaborn as sns\n",
    "from pandas.plotting import scatter_matrix\n",
    "from matplotlib import pyplot\n",
    "import matplotlib.cm as cm\n",
    "import plotly.graph_objects as go\n",
    "import plotly.express as px\n",
    "\n",
    "OVERWRITE_DATAFRAMES = True"
   ]
  },
  {
   "cell_type": "code",
   "execution_count": null,
   "metadata": {},
   "outputs": [],
   "source": [
    "# Get the experiment list from the experiments listed in the config \n",
    "exp_list = cp.populate_experiment_list()\n",
    "display(exp_list)\n",
    "print(cp.SAVED_DATA_PATH)"
   ]
  },
  {
   "cell_type": "code",
   "execution_count": null,
   "metadata": {},
   "outputs": [],
   "source": [
    "# Load, process and combine the dataframes (including segmentation and migration calculations)\n",
    "comb_df = cp.combine_dataframes(exp_list)\n",
    "\n",
    "comb_df, new_factors = cp.measurement_pipeline(comb_df, mixed=cp.MIXED_SCALING, factors_to_timeaverage = cp.ALL_FACTORS) #If AVERAGE_TIME_WINDOWS is true, then the comb df contains new factors, which are output as 'new factors'\n",
    "display(new_factors)\n",
    "\n",
    "# Returns a filtered dataframe, while also adding included column to comb_df\n",
    "comb_df, filt_counts = cp.apply_filters(comb_df)\n",
    "\n",
    "# Process a time-averaged DataFrame\n",
    "tavg_df = cp.time_average(comb_df)"
   ]
  },
  {
   "cell_type": "code",
   "execution_count": null,
   "metadata": {},
   "outputs": [],
   "source": [
    "OVERWRITE_DATAFRAMES = True\n",
    "\n",
    "if OVERWRITE_DATAFRAMES:\n",
    "    comb_df.to_csv(cp.SAVED_DATA_PATH + 'comb_df.csv', index=False)\n",
    "    tavg_df.to_csv(cp.SAVED_DATA_PATH + 'tavg_df.csv', index=False)"
   ]
  },
  {
   "cell_type": "markdown",
   "metadata": {},
   "source": [
    "### Optional: load in precreated dataframes"
   ]
  },
  {
   "cell_type": "code",
   "execution_count": null,
   "metadata": {},
   "outputs": [],
   "source": [
    "comb_df = pd.read_csv(cp.SAVED_DATA_PATH + 'comb_df.csv')\n",
    "tavg_df = pd.read_csv(cp.SAVED_DATA_PATH + 'tavg_df.csv')"
   ]
  },
  {
   "cell_type": "markdown",
   "metadata": {},
   "source": [
    "### Optional: do filtering on the data (on top of what has been stated in the config file)"
   ]
  },
  {
   "cell_type": "code",
   "execution_count": null,
   "metadata": {},
   "outputs": [],
   "source": [
    "# User-defined filters in dict {factor:(min, max)}\n",
    "\n",
    "data_filters = {\n",
    "#   \"speed\": (10, 100),\n",
    "  \"area\": (50, 10000),\n",
    "#    \"frame\": (0, 450), # Warning: range will change if self-normalized\n",
    "#   \"ntpts\": (12,1800)\n",
    "}\n",
    "\n",
    "# Returns a filtered dataframe, while also adding included column to comb_df\n",
    "filt_df, filt_counts = cp.apply_filters(comb_df,how='any', filter_dict=data_filters)\n",
    "\n",
    "fig = cp.visualize_filtering(filt_df, filt_counts)"
   ]
  },
  {
   "cell_type": "markdown",
   "metadata": {},
   "source": [
    "### Make a preview plot of any factor"
   ]
  },
  {
   "cell_type": "code",
   "execution_count": null,
   "metadata": {},
   "outputs": [],
   "source": [
    "## Factor list: \n",
    "all_factors =  ['area',\n",
    "                'bbox_area',\n",
    "                'eccentricity',\n",
    "                'equivalent_diameter',\n",
    "                'extent',\n",
    "                'filled_area',\n",
    "                'major_axis_length',\n",
    "                'minor_axis_length',\n",
    "                'orientation',\n",
    "                'perimeter',\n",
    "                'solidity',\n",
    "                'euclidean_dist',     \n",
    "                'cumulative_length', \n",
    "                'speed',\n",
    "                'orientedness', \n",
    "                'directedness',\n",
    "                'turn_angle',\n",
    "                'endpoint_dir_ratio',\n",
    "                'dir_autocorr',\n",
    "                'outreach_ratio',\n",
    "                'MSD',                \n",
    "                'max_dist',           \n",
    "                'glob_turn_deg',\n",
    "                'arrest_coefficient'\n",
    "                'aspect',\n",
    "                'rip_p',\n",
    "                'rip_K',\n",
    "                'rip_L']"
   ]
  },
  {
   "cell_type": "code",
   "execution_count": null,
   "metadata": {},
   "outputs": [],
   "source": [
    "# Use filt_df or comb_df depending on what you want to see\n",
    "f=cp.multi_condition_timeplot(filt_df, 'speed')\n",
    "f.show()"
   ]
  },
  {
   "cell_type": "code",
   "execution_count": null,
   "metadata": {},
   "outputs": [],
   "source": [
    "# Plot of difference\n"
   ]
  },
  {
   "cell_type": "markdown",
   "metadata": {},
   "source": [
    "### Plot all metrics"
   ]
  },
  {
   "cell_type": "code",
   "execution_count": null,
   "metadata": {},
   "outputs": [],
   "source": [
    "# Outputs plots of all metrics for all factors\n",
    "cp.comparative_visualization_pipeline(comb_df, num_factors=all_factors) "
   ]
  },
  {
   "cell_type": "markdown",
   "metadata": {},
   "source": [
    "## Dimensionality reduction section (3D UMAP)"
   ]
  },
  {
   "cell_type": "markdown",
   "metadata": {},
   "source": [
    "### Optional: for new datasets perform correlation analysis to understand which factors correlate to one another"
   ]
  },
  {
   "cell_type": "code",
   "execution_count": null,
   "metadata": {},
   "outputs": [],
   "source": [
    "df_in = comb_df\n",
    "cp.correlation_matrix_heatmap(df_in, factors = cp.ALL_FACTORS)"
   ]
  },
  {
   "cell_type": "markdown",
   "metadata": {},
   "source": [
    "### Optional: use variance thresholder for further insight"
   ]
  },
  {
   "cell_type": "code",
   "execution_count": null,
   "metadata": {},
   "outputs": [],
   "source": [
    "chosen_dr_factors = cp.variance_threshold(comb_df, threshold_value=0.03)\n",
    "chosen_dr_factors"
   ]
  },
  {
   "cell_type": "markdown",
   "metadata": {},
   "source": [
    "### Optional: define a new list of dr_factors to use for UMAP"
   ]
  },
  {
   "cell_type": "code",
   "execution_count": null,
   "metadata": {},
   "outputs": [],
   "source": [
    "REGIONPROPS_LIST = ['area',\n",
    "                    'bbox_area',\n",
    "                    'eccentricity',\n",
    "                    'equivalent_diameter',\n",
    "                    'extent',\n",
    "                    'filled_area',\n",
    "                    'major_axis_length',\n",
    "                    'minor_axis_length',\n",
    "                    'orientation',\n",
    "                    'perimeter',\n",
    "                     'solidity'\n",
    "                     ]\n",
    "\n",
    "MIG_FACTORS = ['euclidean_dist',     \n",
    "                'cumulative_length', \n",
    "                'speed',\n",
    "                'orientedness', \n",
    "                'directedness',\n",
    "                'turn_angle',\n",
    "                'endpoint_dir_ratio',\n",
    "                'dir_autocorr',\n",
    "                'outreach_ratio',\n",
    "                'MSD',                \n",
    "                'max_dist',           \n",
    "                'glob_turn_deg',\n",
    "                'arrest_coefficient']\n",
    "\n",
    "ADDITIONAL_FACTORS = ['aspect', 'rip_L'] # 'rip_p', 'rip_K', \n",
    "\n",
    "\n",
    "DR_FACTORS = REGIONPROPS_LIST + MIG_FACTORS + ADDITIONAL_FACTORS"
   ]
  },
  {
   "cell_type": "markdown",
   "metadata": {},
   "source": [
    "## Perform UMAP and cluster analysis"
   ]
  },
  {
   "cell_type": "markdown",
   "metadata": {},
   "source": [
    "### First, do UMAP, save the new df and plot the UMAP"
   ]
  },
  {
   "cell_type": "code",
   "execution_count": null,
   "metadata": {},
   "outputs": [],
   "source": [
    "###### User alterable parameters ######\n",
    "tsne_perp=150\n",
    "umap_nn = 30 #umap nearest neighbours\n",
    "min_dist = 0.0 #umap minimum distance (usually keep this at 0 or very low)\n",
    "n_components = 3 # number of umap dimensions to calculate\n",
    "#######################################\n",
    "\n",
    "\n",
    "\n",
    "dr_df = cp.dr_pipeline_multiUMAPandTSNE(comb_df, \n",
    "                    dr_factors=DR_FACTORS,\n",
    "                    n_components = n_components,\n",
    "                    umap_nn=umap_nn,\n",
    "                    min_dist= min_dist,\n",
    "                    scalingmethod = 'choice',) # A number of scaling methods are available: 'choice', 'minmax', 'standard', 'robust', 'normalize', 'quantile', 'maxabs', 'yeo-johnson', 'box-cox'\n",
    "\n",
    "dr_df.to_csv(cp.SAVED_DATA_PATH + 'dr_df_30.csv', index=False) # Saves the df\n",
    "\n",
    "cp.plot_3D_scatter(dr_df, 'UMAP1', 'UMAP2', 'UMAP3', colorby='condition', ticks=False, identifier='dr_df' + '_byCONDITION_',dotsize = 0.01, alpha=0.1, markerscale = 100) #color = label or condition  "
   ]
  },
  {
   "cell_type": "markdown",
   "metadata": {},
   "source": [
    "### Second, identify clusters and exemplar cells using HDBSCAN"
   ]
  },
  {
   "cell_type": "code",
   "execution_count": null,
   "metadata": {},
   "outputs": [],
   "source": [
    "##### User adjustable parameters #####\n",
    "min_cluster_size = 1000\n",
    "min_samples = 500\n",
    "cluster_by = 'UMAPNDIM' # UMAPNDIM = default, clusters on UMAPs. NDIM = alternate, clusters on all dimensions\n",
    "metric = 'euclidean' # See https://hdbscan.readthedocs.io/en/latest/api.html#hdbscan.HDBSCAN for options\n",
    "#######################################\n",
    "\n",
    "lab_dr_df, exemplar_df=cp.hdbscan_clustering(dr_df, min_cluster_size=min_cluster_size, min_samples=min_samples, cluster_by=cluster_by,  metric=metric)\n",
    "lab_dr_df.name='lab_dr_df'\n",
    "name = lab_dr_df.name\n",
    "\n",
    "lab_dr_df.to_csv(cp.SAVED_DATA_PATH + 'lab_dr_df_30.csv', index=False)\n",
    "exemplar_df.to_csv(cp.SAVED_DATA_PATH + 'exemplar_df_30.csv', index=False)\n",
    "\n",
    "cp.plot_3D_scatter(lab_dr_df_30, 'UMAP1', 'UMAP2', 'UMAP3', colorby='label', ticks=False, identifier=name + '_byCLUSTERID___',dotsize = 0.01, alpha=0.1, markerscale = 100) #color = label or condition   \n"
   ]
  },
  {
   "cell_type": "markdown",
   "metadata": {},
   "source": [
    "## Then plot the 'fingerprint' plot of percentage in each cluster per condition"
   ]
  },
  {
   "cell_type": "code",
   "execution_count": null,
   "metadata": {},
   "outputs": [],
   "source": [
    "# This is the new combo\n",
    "cluster_purity_df = cp.purity_pointsinclusterspercondition(lab_dr_df) \n",
    "display(cluster_purity_df)\n",
    "f = cp.purityplot_percentcluspercondition(lab_dr_df, cluster_purity_df) "
   ]
  },
  {
   "cell_type": "markdown",
   "metadata": {},
   "source": [
    "### Optional: explore the clusters with interactive 3D plot"
   ]
  },
  {
   "cell_type": "code",
   "execution_count": null,
   "metadata": {},
   "outputs": [],
   "source": [
    "cp.interactive_plot_3D_UMAP(df=lab_dr_df,colorby = 'Condition_shortlabel', symbolby = 'Condition_shortlabel', what = ' AllTimeUMAPwithclusters') # TavgUMAPwithclusters"
   ]
  },
  {
   "cell_type": "markdown",
   "metadata": {},
   "source": [
    "### Optional: all other conditions colored grey, chosen condition in color"
   ]
  },
  {
   "cell_type": "code",
   "execution_count": null,
   "metadata": {},
   "outputs": [],
   "source": [
    "df=lab_dr_df\n",
    "\n",
    "condlist = df['Condition_shortlabel'].unique().tolist() #get unique list of conditions from df\n",
    "print(condlist) # show the condition list\n",
    "# chosen_condition = '' #specify a chosen condition from the list\n",
    "chosen_condition = condlist[0] # or choose the first one\n",
    "print(chosen_condition)\n",
    "\n",
    "cp.interactive_plot_3D_UMAP_chosen_condition(df, chosen_condition, opacity_grey=0.01, marker_size_all=2,) #change opacity and marker size to suit the data"
   ]
  },
  {
   "cell_type": "markdown",
   "metadata": {},
   "source": [
    "### Optional: make UMAP plots colored by metric contributors - the more intense the color, the higher the contribution the metric to a cluster"
   ]
  },
  {
   "cell_type": "code",
   "execution_count": null,
   "metadata": {},
   "outputs": [],
   "source": [
    "# First one colors per metric\n",
    "cp.plot_UMAP_subplots_coloredbymetricsorconditions(df_in=lab_dr_df, x= 'UMAP1', y= 'UMAP2', z = 'UMAP3', n_cols = 5, ticks=False, metrics = cp.ALL_FACTORS, scalingmethod='choice',\n",
    "                                                   identifier='inferno', colormap='inferno', coloredbycondition = False, samplethedf = False)\n",
    "#second one colors per condition\n",
    "# cp.plot_UMAP_subplots_coloredbymetricsorconditions(df_in=tptlabel_dr_df, x= 'UMAP1', y= 'UMAP2', z = 'UMAP3', n_cols = 5, ticks=False, metrics = cp.ALL_FACTORS, scalingmethod='choice',\n",
    "#                                                    identifier='inferno', colormap='inferno', coloredbycondition = True, samplethedf = False)"
   ]
  },
  {
   "cell_type": "markdown",
   "metadata": {},
   "source": [
    "### Perform UMAP DR (and tSNE and PCA) and then cluster analysis on the tavg_df"
   ]
  },
  {
   "cell_type": "markdown",
   "metadata": {},
   "source": [
    "### this is needed to make the downstream part, and for trajectory analysis"
   ]
  },
  {
   "cell_type": "code",
   "execution_count": null,
   "metadata": {},
   "outputs": [],
   "source": [
    "tsne_perp=150\n",
    "umap_nn = 20#4#60\n",
    "min_dist = 0.0 #0.15 \n",
    "n_components = 3\n",
    "\n",
    "tavg_dr_df = cp.dr_pipeline_multiUMAPandTSNE(tavg_df, \n",
    "                    dr_factors=new_DR_FACTORS,# new_DR_FACTORS # DR_FACTORS #only_tmeans # cp.DR_FACTORS\n",
    "                    n_components = n_components,\n",
    "                    umap_nn=umap_nn,\n",
    "                    min_dist= min_dist,\n",
    "                    scalingmethod = 'choice',) # log2minmax # powertransformer #minmax\n",
    "                    # positive_FACTORS = positive_FACTORS,\n",
    "                    # negative_FACTORS = negative_FACTORS) \n",
    "\n",
    "# lab_tavg_dr_df, exemplar_tavg_df=cp.hdbscan_clustering(tavg_dr_df, min_cluster_size=20,min_samples=20,cluster_by='UMAPNDIM',  metric='euclidean', plot=False) # \n",
    "lab_tavg_dr_df, exemplar_tavg_df=cp.hdbscan_clustering(tavg_dr_df, min_cluster_size=50,min_samples=50,cluster_by='UMAPNDIM',  metric='euclidean', plot=False) # \n",
    "# lab_tavg_dr_df.name='lab_tavg_dr_df'\n",
    "# name2 = lab_tavg_dr_df.name\n",
    "\n",
    "# # dr_df.name='dr_df'\n",
    "# # name = dr_df.name\n",
    "# # cp.interactive_plot_3D_UMAP(df,colorby = 'label', symbolby = 'Condition_shortlabel', what = ' AllTimeUMAPwithclusters') # TavgUMAPwithclusters\n",
    "# cp.plot_3D_scatter(lab_tavg_dr_df, 'UMAP1', 'UMAP2', 'UMAP3', colorby='label', ticks=False, identifier=name2 + '_byCLUSTERID___',dotsize = 30, alpha=0.5, markerscale = 5) #color = label or condition   \n",
    "# cp.plot_3D_scatter(lab_tavg_dr_df, 'UMAP1', 'UMAP2', 'UMAP3', colorby='condition', ticks=False, identifier=name2 + '_byCONDITION___',dotsize = 30, alpha=0.5, markerscale = 5) #color = label or condition  "
   ]
  },
  {
   "cell_type": "code",
   "execution_count": null,
   "metadata": {},
   "outputs": [],
   "source": [
    "OVERWRITE_DATAFRAMES = True\n",
    "\n",
    "if OVERWRITE_DATAFRAMES:\n",
    "    tavg_dr_df.to_csv(cp.SAVED_DATA_PATH + 'tavg_dr_df.csv', index=False)\n",
    "    lab_tavg_dr_df.to_csv(cp.SAVED_DATA_PATH + 'lab_tavg_dr_df.csv', index=False)\n",
    "    exemplar_tavg_df.to_csv(cp.SAVED_DATA_PATH + 'exemplar_tavg_df.csv', index=False)"
   ]
  },
  {
   "cell_type": "code",
   "execution_count": null,
   "metadata": {},
   "outputs": [],
   "source": [
    "#Run this function to put the labels into the lab_tavg_lab_dr_df. Slow function. Can update search by uniq_id alone...\n",
    "\n",
    "lab_tavg_lab_dr_df=cp.add_tavglabel_todf(lab_dr_df, lab_tavg_dr_df)\n",
    "lab_tavg_lab_dr_df.to_csv(cp.SAVED_DATA_PATH + 'lab_tavg_lab_dr_df.csv', index=False)"
   ]
  },
  {
   "cell_type": "markdown",
   "metadata": {},
   "source": [
    "## Quantify the plasticity "
   ]
  },
  {
   "cell_type": "code",
   "execution_count": null,
   "metadata": {},
   "outputs": [],
   "source": [
    "tptlabel_dr_df = cp.count_cluster_changes_with_tavg(lab_tavg_lab_dr_df)\n",
    "tptlabel_dr_df.to_csv(cp.SAVED_DATA_PATH + 'tptlabel_dr_df.csv', index=False)"
   ]
  },
  {
   "cell_type": "markdown",
   "metadata": {},
   "source": [
    "### Plots of plasticity"
   ]
  },
  {
   "cell_type": "code",
   "execution_count": null,
   "metadata": {},
   "outputs": [],
   "source": [
    "tptlabel_dr_df = pd.read_csv(cp.SAVED_DATA_PATH + 'tptlabel_dr_df.csv')"
   ]
  },
  {
   "cell_type": "code",
   "execution_count": null,
   "metadata": {},
   "outputs": [],
   "source": [
    "df=tptlabel_dr_df\n",
    "# all='\\_allcells'\n",
    "cp.plot_plasticity_changes(df, identifier='\\_allcells', maxy=4) #problem with NaNs in the data"
   ]
  },
  {
   "cell_type": "code",
   "execution_count": null,
   "metadata": {},
   "outputs": [],
   "source": [
    "df=tptlabel_dr_df\n",
    "cp.plot_plasticity_countplots(df, identifier='_allcells')"
   ]
  },
  {
   "cell_type": "code",
   "execution_count": null,
   "metadata": {},
   "outputs": [],
   "source": [
    "df=tptlabel_dr_df\n",
    "cp.plot_cumulative_plasticity_changes_main(df, identifier='\\_allcells', miny=None, maxy=None, t_window_multiplier = cp.T_WINDOW_MULTIPLIER, plotallcells = False)"
   ]
  },
  {
   "cell_type": "markdown",
   "metadata": {},
   "source": [
    "# Disambiguate the clusters"
   ]
  },
  {
   "cell_type": "markdown",
   "metadata": {},
   "source": [
    "### First, choose a number of exemplar cells to pick out from the exemplar cell list to display"
   ]
  },
  {
   "cell_type": "code",
   "execution_count": null,
   "metadata": {},
   "outputs": [],
   "source": [
    "# Choose a number of exemplars to display for each cluster\n",
    "n=2\n",
    "exemplar_df = exemplar_df.groupby('label').apply(lambda x: x.sample(min(n,len(x)))).reset_index(drop=True)"
   ]
  },
  {
   "cell_type": "code",
   "execution_count": null,
   "metadata": {},
   "outputs": [],
   "source": [
    "size=300 #\n",
    "\n",
    "df= tptlabel_dr_df #from the all analysis part\n",
    "exemp_df=exemplar_df #from the cluster analysis part.\n",
    "\n",
    "top_dictionary, contributions_df_singletpoints, scaled_df=cp.contribution_to_clusters_topdictionary(df_in=tptlabel_dr_df,  howmanyfactors=10, dr_factors= newnew_DR_FACTORS) #BEFORE disambiguate_tavg(), then: lab_tavg_dr_df BEFORE disambiguate_timepoint(), then: #tptlabel_dr_df \n",
    "cp.plot_cluster_averages(top_dictionary, df, scaled_df)\n",
    "cp.disambiguate_timepoint_dev(df, exemp_df, scaled_df, top_dictionary=top_dictionary, XYRange=size,boxoff=True) "
   ]
  },
  {
   "cell_type": "code",
   "execution_count": 2,
   "metadata": {},
   "outputs": [],
   "source": [
    "\n",
    "tptlabel_dr_df = pd.read_csv(cp.SAVED_DATA_PATH + 'tptlabel_dr_df.csv')\n",
    "exemplar_df = pd.read_csv(cp.SAVED_DATA_PATH + 'exemplar_df.csv')"
   ]
  },
  {
   "cell_type": "markdown",
   "metadata": {},
   "source": [
    "## Then, to visualize single cells with many timepoints, select cells with lots of timepoints"
   ]
  },
  {
   "cell_type": "code",
   "execution_count": 3,
   "metadata": {},
   "outputs": [
    {
     "name": "stdout",
     "output_type": "stream",
     "text": [
      "Filtering exemplars so that only those with > 222 timepoints are included\n",
      "Aiming for 40 cells per cluster\n",
      "Which means 320 cells in total\n",
      "But we can accept 70 percent! Which means we are only aiming for 224.0 cells in total\n",
      "Number of unique cells in exemplar_df:  10147\n",
      "Number of unique cells in exemplar_df after filtering:  1006\n",
      "The number of clusters in whole dataset is: 8 whereas represented in the filtered and ready exemplar = 8\n",
      "Intended number of unique cells in the final df = 320 , and the actual number is 226\n",
      "Intended number of unique cells in the final df = 320 , and the actual number is 226\n",
      "The number of datapoints in the original dataframe was 1036092\n",
      "The number of cells in the original dataframe was 14825\n",
      "The number of datapoints in the new dataframe is 88020\n",
      "The number of cells in the new dataframe is 226\n"
     ]
    },
    {
     "data": {
      "image/png": "[encoded data removed]",
      "text/plain": [
       "<Figure size 432x288 with 1 Axes>"
      ]
     },
     "metadata": {
      "needs_background": "light"
     },
     "output_type": "display_data"
    }
   ],
   "source": [
    "#### User inputs ####\n",
    "whole_df = tptlabel_dr_df\n",
    "exemplar_df = exemplar_df\n",
    "numberofdesiredtimepoints = int(whole_df['ntpts'].mean())\n",
    "# numberofdesiredtimepoints = 200\n",
    "numberofcellspercluster = 40\n",
    "num_clusters_whole_dataset = len(whole_df['label'].unique())\n",
    "\n",
    "override = int((numberofcellspercluster*num_clusters_whole_dataset)*0.7)\n",
    "#####################\n",
    "\n",
    "exemplar_df_filt, exemplar_cell_tracks_df = cp.filter_exemplars(whole_df=whole_df, exemplar_df = exemplar_df, numberofdesiredtimepoints = numberofdesiredtimepoints, \n",
    "                                                                    numberofcellspercluster = numberofcellspercluster, override = override)"
   ]
  },
  {
   "cell_type": "code",
   "execution_count": null,
   "metadata": {},
   "outputs": [],
   "source": [
    "df=exemplar_cell_tracks_df\n",
    "# cp.plot_cumulative_plasticity_changes_test2(df, identifier='\\_exemplars_only_3_df__', miny=None, maxy=None, t_window_multiplier = 1, plotallcells = True) #deprecated, use the small multiples version\n",
    "cp.plot_cumulative_plasticity_changes_main(df, identifier='\\_exemplars_only_3_df__', miny=None, maxy=None, t_window_multiplier = 1, plotallcells = False)"
   ]
  },
  {
   "cell_type": "markdown",
   "metadata": {},
   "source": [
    "### Plot any factor as small multiples from the exemplars"
   ]
  },
  {
   "cell_type": "code",
   "execution_count": null,
   "metadata": {},
   "outputs": [],
   "source": [
    "df = exemplar_cell_tracks_df\n",
    "whichcolumntoplot = 'label'\n",
    "\n",
    "cp.plot_small_multiples(df, whichcolumntoplot)"
   ]
  },
  {
   "cell_type": "markdown",
   "metadata": {},
   "source": [
    "### Re'disambiguate the new exemplar df!"
   ]
  },
  {
   "cell_type": "code",
   "execution_count": null,
   "metadata": {},
   "outputs": [],
   "source": [
    "size=300 #\n",
    "\n",
    "df= tptlabel_dr_df #from the all analysis part\n",
    "exemp_df=exemplar_df #from the cluster analysis part.\n",
    "\n",
    "top_dictionary, contributions_df_singletpoints, scaled_df=cp.contribution_to_clusters_topdictionary(df_in=tptlabel_dr_df,  howmanyfactors=10, dr_factors= newnew_DR_FACTORS) #BEFORE disambiguate_tavg(), then: lab_tavg_dr_df BEFORE disambiguate_timepoint(), then: #tptlabel_dr_df \n",
    "cp.plot_cluster_averages(top_dictionary, df, scaled_df)\n",
    "cp.disambiguate_timepoint_dev(df, exemp_df, scaled_df, top_dictionary=top_dictionary, XYRange=size,boxoff=True) "
   ]
  },
  {
   "cell_type": "markdown",
   "metadata": {},
   "source": [
    "# Useful things"
   ]
  },
  {
   "cell_type": "code",
   "execution_count": null,
   "metadata": {},
   "outputs": [],
   "source": [
    "REGIONPROPS_LIST = ['area',\n",
    "                    # 'bbox_area',\n",
    "                    'eccentricity',\n",
    "                    'equivalent_diameter',\n",
    "                    # 'extent',\n",
    "                    'filled_area',\n",
    "                    'major_axis_length',\n",
    "                    'minor_axis_length',\n",
    "                    # 'orientation',\n",
    "                    'perimeter',\n",
    "                    #  'solidity'\n",
    "                     ]\n",
    "\n",
    "MIG_FACTORS = ['euclidean_dist',     \n",
    "                'cumulative_length', \n",
    "                'speed',\n",
    "                # 'orientedness', \n",
    "                # 'directedness',\n",
    "                # 'turn_angle',\n",
    "                'endpoint_dir_ratio',\n",
    "                # 'dir_autocorr',\n",
    "                'outreach_ratio',\n",
    "                'MSD',                \n",
    "                'max_dist',           \n",
    "                # 'glob_turn_deg',\n",
    "                'arrest_coefficient']\n",
    "\n",
    "ADDITIONAL_FACTORS = ['aspect', 'rip_L'] # 'rip_p', 'rip_K', \n",
    "\n",
    "\n",
    "newnew_DR_FACTORS = REGIONPROPS_LIST + MIG_FACTORS + ADDITIONAL_FACTORS"
   ]
  },
  {
   "cell_type": "markdown",
   "metadata": {},
   "source": [
    "# Extra:"
   ]
  },
  {
   "cell_type": "markdown",
   "metadata": {},
   "source": [
    "## Change the size of the timewindow for cluster switching"
   ]
  },
  {
   "cell_type": "code",
   "execution_count": null,
   "metadata": {},
   "outputs": [],
   "source": [
    "lab_tavg_lab_dr_df=pd.read_csv(cp.SAVED_DATA_PATH + 'lab_tavg_lab_dr_df.csv')"
   ]
  },
  {
   "cell_type": "code",
   "execution_count": null,
   "metadata": {},
   "outputs": [],
   "source": [
    "\n",
    "data_filters = {\n",
    "#   \"speed\": (10, 100),\n",
    "#    \"twind_n_changes\": (5, 20), # Warning: range will change if self-normalized\n",
    "  \"ntpts\": (48,1800)\n",
    "}\n",
    "\n",
    "# Get the uniq_ID of the cells that pass the filters\n",
    "\n",
    "lab_tavg_lab_dr_df_48filt, lab_tavg_lab_dr_df_counts = cp.apply_filters(lab_tavg_lab_dr_df, how='any', filter_dict=data_filters)\n",
    "# lab_tavg_lab_dr_df_48filt_all, lab_tavg_lab_dr_df_counts = cp.apply_filters(lab_tavg_lab_dr_df, how='all', filter_dict=data_filters)\n",
    "\n",
    "# saVE THE lab_tavg_lab_dr_df_48filt\n",
    "lab_tavg_lab_dr_df_48filt.to_csv(cp.SAVED_DATA_PATH + 'lab_tavg_lab_dr_df_48filt.csv')\n"
   ]
  },
  {
   "cell_type": "code",
   "execution_count": null,
   "metadata": {},
   "outputs": [],
   "source": [
    "# make a new tptlabel_dr_df counting with the new time window\n",
    "\n",
    "tptlabel_dr_df_filt48 = cp.count_cluster_changes_with_tavg(lab_tavg_lab_dr_df_48filt, t_window_multiplier=6)"
   ]
  },
  {
   "cell_type": "code",
   "execution_count": null,
   "metadata": {},
   "outputs": [],
   "source": [
    "df=tptlabel_dr_df_filt48\n",
    "# all='\\_allcells'\n",
    "cp.plot_plasticity_changes(df, identifier='\\_allcells',) #problem with NaNs in the data  maxy=4"
   ]
  },
  {
   "cell_type": "code",
   "execution_count": null,
   "metadata": {},
   "outputs": [],
   "source": []
  },
  {
   "cell_type": "code",
   "execution_count": null,
   "metadata": {},
   "outputs": [],
   "source": []
  },
  {
   "cell_type": "code",
   "execution_count": null,
   "metadata": {},
   "outputs": [],
   "source": []
  },
  {
   "cell_type": "code",
   "execution_count": null,
   "metadata": {},
   "outputs": [],
   "source": []
  },
  {
   "cell_type": "code",
   "execution_count": null,
   "metadata": {},
   "outputs": [],
   "source": []
  },
  {
   "cell_type": "code",
   "execution_count": null,
   "metadata": {},
   "outputs": [],
   "source": []
  },
  {
   "cell_type": "code",
   "execution_count": null,
   "metadata": {},
   "outputs": [],
   "source": []
  }
 ],
 "metadata": {
  "kernelspec": {
   "display_name": "cellPLATO_gitversion",
   "language": "python",
   "name": "python3"
  },
  "language_info": {
   "codemirror_mode": {
    "name": "ipython",
    "version": 3
   },
   "file_extension": ".py",
   "mimetype": "text/x-python",
   "name": "python",
   "nbconvert_exporter": "python",
   "pygments_lexer": "ipython3",
   "version": "3.7.12"
  },
  "orig_nbformat": 4
 },
 "nbformat": 4,
 "nbformat_minor": 2
}
